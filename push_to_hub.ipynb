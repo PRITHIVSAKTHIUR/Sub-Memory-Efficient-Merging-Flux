{
  "nbformat": 4,
  "nbformat_minor": 0,
  "metadata": {
    "colab": {
      "provenance": []
    },
    "kernelspec": {
      "name": "python3",
      "display_name": "Python 3"
    },
    "language_info": {
      "name": "python"
    }
  },
  "cells": [
    {
      "cell_type": "code",
      "source": [
        "from huggingface_hub import notebook_login, HfApi\n",
        "notebook_login()"
      ],
      "metadata": {
        "id": "ZNJLL196iSwE"
      },
      "execution_count": null,
      "outputs": []
    },
    {
      "cell_type": "code",
      "execution_count": null,
      "metadata": {
        "id": "hK3gB0TBiRK7"
      },
      "outputs": [],
      "source": [
        "api = HfApi()\n",
        "repo_id = \"prithivMLmods/Flux.1-Krea-Merged-Dev\"\n",
        "\n",
        "api.upload_folder(\n",
        "    folder_path=\"merged/\",\n",
        "    path_in_repo=\".\",\n",
        "    repo_id=repo_id,\n",
        "    repo_type=\"model\",\n",
        "    revision=\"main\"\n",
        ")"
      ]
    }
  ]
}